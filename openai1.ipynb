{
 "cells": [
  {
   "cell_type": "code",
   "execution_count": 1,
   "metadata": {},
   "outputs": [
    {
     "name": "stdout",
     "output_type": "stream",
     "text": [
      "Requirement already satisfied: OpenAI in /Users/mikypiky/opt/anaconda3/envs/py_env/lib/python3.12/site-packages (1.42.0)\n",
      "Requirement already satisfied: anyio<5,>=3.5.0 in /Users/mikypiky/opt/anaconda3/envs/py_env/lib/python3.12/site-packages (from OpenAI) (4.4.0)\n",
      "Requirement already satisfied: distro<2,>=1.7.0 in /Users/mikypiky/opt/anaconda3/envs/py_env/lib/python3.12/site-packages (from OpenAI) (1.9.0)\n",
      "Requirement already satisfied: httpx<1,>=0.23.0 in /Users/mikypiky/opt/anaconda3/envs/py_env/lib/python3.12/site-packages (from OpenAI) (0.27.2)\n",
      "Requirement already satisfied: jiter<1,>=0.4.0 in /Users/mikypiky/opt/anaconda3/envs/py_env/lib/python3.12/site-packages (from OpenAI) (0.5.0)\n",
      "Requirement already satisfied: pydantic<3,>=1.9.0 in /Users/mikypiky/opt/anaconda3/envs/py_env/lib/python3.12/site-packages (from OpenAI) (2.8.2)\n",
      "Requirement already satisfied: sniffio in /Users/mikypiky/opt/anaconda3/envs/py_env/lib/python3.12/site-packages (from OpenAI) (1.3.1)\n",
      "Requirement already satisfied: tqdm>4 in /Users/mikypiky/opt/anaconda3/envs/py_env/lib/python3.12/site-packages (from OpenAI) (4.66.5)\n",
      "Requirement already satisfied: typing-extensions<5,>=4.11 in /Users/mikypiky/opt/anaconda3/envs/py_env/lib/python3.12/site-packages (from OpenAI) (4.12.2)\n",
      "Requirement already satisfied: idna>=2.8 in /Users/mikypiky/opt/anaconda3/envs/py_env/lib/python3.12/site-packages (from anyio<5,>=3.5.0->OpenAI) (3.8)\n",
      "Requirement already satisfied: certifi in /Users/mikypiky/opt/anaconda3/envs/py_env/lib/python3.12/site-packages (from httpx<1,>=0.23.0->OpenAI) (2024.7.4)\n",
      "Requirement already satisfied: httpcore==1.* in /Users/mikypiky/opt/anaconda3/envs/py_env/lib/python3.12/site-packages (from httpx<1,>=0.23.0->OpenAI) (1.0.5)\n",
      "Requirement already satisfied: h11<0.15,>=0.13 in /Users/mikypiky/opt/anaconda3/envs/py_env/lib/python3.12/site-packages (from httpcore==1.*->httpx<1,>=0.23.0->OpenAI) (0.14.0)\n",
      "Requirement already satisfied: annotated-types>=0.4.0 in /Users/mikypiky/opt/anaconda3/envs/py_env/lib/python3.12/site-packages (from pydantic<3,>=1.9.0->OpenAI) (0.7.0)\n",
      "Requirement already satisfied: pydantic-core==2.20.1 in /Users/mikypiky/opt/anaconda3/envs/py_env/lib/python3.12/site-packages (from pydantic<3,>=1.9.0->OpenAI) (2.20.1)\n",
      "Note: you may need to restart the kernel to use updated packages.\n"
     ]
    }
   ],
   "source": [
    "pip install OpenAI "
   ]
  },
  {
   "cell_type": "code",
   "execution_count": 3,
   "metadata": {},
   "outputs": [
    {
     "name": "stdout",
     "output_type": "stream",
     "text": [
      "Collecting python-dotenv\n",
      "  Downloading python_dotenv-1.0.1-py3-none-any.whl.metadata (23 kB)\n",
      "Downloading python_dotenv-1.0.1-py3-none-any.whl (19 kB)\n",
      "Installing collected packages: python-dotenv\n",
      "Successfully installed python-dotenv-1.0.1\n",
      "Note: you may need to restart the kernel to use updated packages.\n"
     ]
    }
   ],
   "source": [
    "pip install python-dotenv\n"
   ]
  },
  {
   "cell_type": "code",
   "execution_count": 4,
   "metadata": {},
   "outputs": [],
   "source": [
    "from dotenv import load_dotenv\n",
    "import os\n",
    "\n",
    "load_dotenv()  # Lädt die Variablen aus der .env Datei\n",
    "\n",
    "# Zugriff auf die API-Schlüsselvariable\n",
    "openai_api_key = os.getenv('OPENAI_API_KEY')\n"
   ]
  },
  {
   "cell_type": "code",
   "execution_count": 5,
   "metadata": {},
   "outputs": [
    {
     "name": "stdout",
     "output_type": "stream",
     "text": [
      "The capital of France is Paris.\n",
      "The population of Paris is approximately 2.2 million people.\n"
     ]
    }
   ],
   "source": [
    "from openai import OpenAI\n",
    "from dotenv import load_dotenv\n",
    "import os\n",
    "\n",
    "# Load environment variables from .env file\n",
    "load_dotenv()\n",
    "\n",
    "# Get the API key from environment variables\n",
    "openai_api_key = os.getenv('OPENAI_API_KEY')\n",
    "\n",
    "# Instantiate the client with the API key\n",
    "client = OpenAI(api_key=openai_api_key)\n",
    "\n",
    "# Define global chat history list\n",
    "chat_history = [\n",
    "    {\"role\": \"system\", \"content\": \"You are a helpful but terse AI assistant who gets straight to the point.\"}\n",
    "]\n",
    "\n",
    "def get_llm_response(prompt, chat_history):\n",
    "    \"\"\"\n",
    "    This function takes a prompt as input, adds it to the chat history, and passes the updated history\n",
    "    to OpenAI's GPT-3.5 model. The function returns the response from the model and updates the chat history.\n",
    "    \"\"\"\n",
    "    try:\n",
    "        if not isinstance(prompt, str):\n",
    "            raise ValueError(\"Input must be a string enclosed in quotes.\")\n",
    "\n",
    "        # Append the user prompt to the chat history\n",
    "        chat_history.append({\"role\": \"user\", \"content\": prompt})\n",
    "\n",
    "        # Correct API call using the OpenAI Python library\n",
    "        completion = client.chat.completions.create(\n",
    "            model=\"gpt-3.5-turbo\",\n",
    "            messages=chat_history,\n",
    "            temperature=0.0\n",
    "        )\n",
    "        \n",
    "        # Get the response from the model\n",
    "        response = completion.choices[0].message.content\n",
    "        \n",
    "        # Append the assistant's response to the chat history\n",
    "        chat_history.append({\"role\": \"assistant\", \"content\": response})\n",
    "        \n",
    "        return response\n",
    "\n",
    "    except Exception as e:\n",
    "        return f\"Error: {str(e)}\"\n",
    "\n",
    "def print_llm_response(prompt):\n",
    "    \"\"\"\n",
    "    This function takes a prompt as input, calls the get_llm_response function, and prints the response.\n",
    "    It also updates the chat history with each new interaction.\n",
    "    \"\"\"\n",
    "    response = get_llm_response(prompt, chat_history)\n",
    "    print(response)\n",
    "\n",
    "# Example usage\n",
    "print_llm_response(\"What is the capital of France?\")\n",
    "print_llm_response(\"And what is the population?\")\n"
   ]
  },
  {
   "cell_type": "code",
   "execution_count": null,
   "metadata": {},
   "outputs": [],
   "source": []
  }
 ],
 "metadata": {
  "kernelspec": {
   "display_name": "py_env",
   "language": "python",
   "name": "python3"
  },
  "language_info": {
   "codemirror_mode": {
    "name": "ipython",
    "version": 3
   },
   "file_extension": ".py",
   "mimetype": "text/x-python",
   "name": "python",
   "nbconvert_exporter": "python",
   "pygments_lexer": "ipython3",
   "version": "3.12.4"
  }
 },
 "nbformat": 4,
 "nbformat_minor": 2
}
